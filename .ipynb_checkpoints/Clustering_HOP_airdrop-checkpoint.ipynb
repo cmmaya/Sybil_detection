{
 "cells": [
  {
   "cell_type": "code",
   "execution_count": 1,
   "id": "f2697e51-5050-443e-ab39-8494f3cbf498",
   "metadata": {},
   "outputs": [],
   "source": [
    "import pandas as pd\n",
    "import networkx as nx\n",
    "import matplotlib.pyplot as plt\n",
    "import community.community_louvain as community_louvain\n",
    "import numpy as np\n",
    "import tqdm\n",
    "import pandas as pd\n",
    "from cluster_algorithm import cluster_algorithm"
   ]
  },
  {
   "cell_type": "code",
   "execution_count": 2,
   "id": "aa71e38f-98b0-4a11-b410-550bd662d554",
   "metadata": {},
   "outputs": [
    {
     "name": "stdout",
     "output_type": "stream",
     "text": [
      "Accounts before filtering:  397444 \n",
      "Accounts after filtering blacklisted:  140914\n"
     ]
    },
    {
     "name": "stderr",
     "output_type": "stream",
     "text": [
      "100%|████████████████████████████████████████████████████████████████████████████████| 718/718 [04:53<00:00,  2.44it/s]"
     ]
    },
    {
     "name": "stdout",
     "output_type": "stream",
     "text": [
      "Lenght:  23160\n"
     ]
    },
    {
     "name": "stderr",
     "output_type": "stream",
     "text": [
      "\n"
     ]
    }
   ],
   "source": [
    "# Load the transaction data\n",
    "transactions_df_nativeTokenTransfers = pd.read_csv(\"data/ethereum_nativeTokenTransfers.csv\")\n",
    "transactions_df_nativeTokenTransfers[['from', 'to']] = transactions_df_nativeTokenTransfers[['from', 'to']].apply(lambda x: '0' + x)\n",
    "\n",
    "# Cluster using Leiden\n",
    "partition_nativeTokenTransfers, connected_members_list_nativeTokenTransfers, G_nativeTokenTransfers = cluster_algorithm(transactions_df_nativeTokenTransfers)"
   ]
  },
  {
   "cell_type": "code",
   "execution_count": 3,
   "id": "79f88146-c370-4a78-80a5-6d3df90aa21d",
   "metadata": {},
   "outputs": [
    {
     "name": "stdout",
     "output_type": "stream",
     "text": [
      "Accounts before filtering:  473838 \n",
      "Accounts after filtering blacklisted:  473838\n"
     ]
    },
    {
     "name": "stderr",
     "output_type": "stream",
     "text": [
      "100%|████████████████████████████████████████████████████████████████████████████████| 137/137 [03:46<00:00,  1.66s/it]"
     ]
    },
    {
     "name": "stdout",
     "output_type": "stream",
     "text": [
      "Lenght:  8153\n"
     ]
    },
    {
     "name": "stderr",
     "output_type": "stream",
     "text": [
      "\n"
     ]
    }
   ],
   "source": [
    "# Load the transaction data\n",
    "transactions_df_ethHopTransfers = pd.read_csv(\"data/transactionsDf_ethHopTransfers.csv\")\n",
    "\n",
    "# Cluster using Leiden\n",
    "partition_ethHopTransfers, connected_members_list_ethHopTransfers, G_ethHopTransfers = cluster_algorithm(transactions_df_ethHopTransfers)"
   ]
  },
  {
   "cell_type": "code",
   "execution_count": 4,
   "id": "374a8ba9-549d-4473-af09-662d7d843147",
   "metadata": {},
   "outputs": [
    {
     "name": "stdout",
     "output_type": "stream",
     "text": [
      "Total Sybil detected:  31191\n",
      "individually: \n",
      "ethHopTransfers:  8153 \n",
      "nativeTokenTransfers:  23160\n",
      "Number of matching accounts from Sybil reported and sybil found: 2418\n"
     ]
    }
   ],
   "source": [
    "# Merge sybils detection from different df\n",
    "matching_connected_members = set(connected_members_list_ethHopTransfers).union(connected_members_list_nativeTokenTransfers)\n",
    "\n",
    "print('Total Sybil detected: ',len(matching_connected_members))\n",
    "print('individually: \\nethHopTransfers: ',len(set(connected_members_list_ethHopTransfers)),  '\\nnativeTokenTransfers: ', len(set(connected_members_list_nativeTokenTransfers)))\n",
    "\n",
    "# Compare the obtained number with the sybil eliminated accounts\n",
    "eliminated_sybil_attackers = pd.read_csv('data/eliminatedSybilAttackers.csv')\n",
    "eliminated_sybil_attackers_set = set(item[0] for item in eliminated_sybil_attackers.values.tolist())\n",
    "\n",
    "matching_connected_members_from_report = eliminated_sybil_attackers_set & set(matching_connected_members)\n",
    "\n",
    "print(\"Number of matching accounts from Sybil reported and sybil found:\", len(matching_connected_members_from_report))"
   ]
  },
  {
   "cell_type": "markdown",
   "id": "f721b3a2-8cda-498c-b683-1361a67b8c3e",
   "metadata": {},
   "source": [
    "**Plot**"
   ]
  },
  {
   "cell_type": "code",
   "execution_count": 5,
   "id": "50ef3807-c591-45a2-8d27-3edb185605d4",
   "metadata": {},
   "outputs": [],
   "source": [
    "# partition_dict = connected_members_list_ethHopTransfers\n",
    "large_communities = [community for community in set(partition_nativeTokenTransfers.values()) \n",
    "                     if len([node for node, comm in partition_nativeTokenTransfers.items() if comm == community]) >= 20]\n",
    "\n",
    "colors = plt.cm.tab20.colors\n",
    "community_colors = {community: colors[i % len(colors)] for i, community in enumerate(large_communities)}\n",
    "\n",
    "cluster_centers = {community: (np.cos(2 * np.pi * i / len(large_communities)) * 5,\n",
    "                               np.sin(2 * np.pi * i / len(large_communities)) * 5)\n",
    "                   for i, community in enumerate(large_communities)}"
   ]
  },
  {
   "cell_type": "code",
   "execution_count": 6,
   "id": "e3301368-4790-4453-b266-d75d4c5e36d6",
   "metadata": {},
   "outputs": [
    {
     "ename": "TypeError",
     "evalue": "'Graph' object is not iterable",
     "output_type": "error",
     "traceback": [
      "\u001b[1;31m---------------------------------------------------------------------------\u001b[0m",
      "\u001b[1;31mTypeError\u001b[0m                                 Traceback (most recent call last)",
      "Cell \u001b[1;32mIn[6], line 5\u001b[0m\n\u001b[0;32m      3\u001b[0m community_nodes \u001b[38;5;241m=\u001b[39m [node \u001b[38;5;28;01mfor\u001b[39;00m node, comm \u001b[38;5;129;01min\u001b[39;00m partition_nativeTokenTransfers\u001b[38;5;241m.\u001b[39mitems() \u001b[38;5;28;01mif\u001b[39;00m comm \u001b[38;5;241m==\u001b[39m community_id]\n\u001b[0;32m      4\u001b[0m subgraph \u001b[38;5;241m=\u001b[39m G_nativeTokenTransfers\u001b[38;5;241m.\u001b[39msubgraph(community_nodes)\n\u001b[1;32m----> 5\u001b[0m community_pos \u001b[38;5;241m=\u001b[39m \u001b[43mnx\u001b[49m\u001b[38;5;241;43m.\u001b[39;49m\u001b[43mspring_layout\u001b[49m\u001b[43m(\u001b[49m\u001b[43msubgraph\u001b[49m\u001b[43m,\u001b[49m\u001b[43m \u001b[49m\u001b[43mseed\u001b[49m\u001b[38;5;241;43m=\u001b[39;49m\u001b[38;5;241;43m42\u001b[39;49m\u001b[43m,\u001b[49m\u001b[43m \u001b[49m\u001b[43mk\u001b[49m\u001b[38;5;241;43m=\u001b[39;49m\u001b[38;5;241;43m0.2\u001b[39;49m\u001b[43m,\u001b[49m\u001b[43m \u001b[49m\u001b[43mscale\u001b[49m\u001b[38;5;241;43m=\u001b[39;49m\u001b[38;5;241;43m1.0\u001b[39;49m\u001b[43m)\u001b[49m\n\u001b[0;32m      6\u001b[0m community_pos \u001b[38;5;241m=\u001b[39m {node: (coord[\u001b[38;5;241m0\u001b[39m] \u001b[38;5;241m+\u001b[39m center[\u001b[38;5;241m0\u001b[39m], coord[\u001b[38;5;241m1\u001b[39m] \u001b[38;5;241m+\u001b[39m center[\u001b[38;5;241m1\u001b[39m]) \u001b[38;5;28;01mfor\u001b[39;00m node, coord \u001b[38;5;129;01min\u001b[39;00m community_pos\u001b[38;5;241m.\u001b[39mitems()}\n\u001b[0;32m      7\u001b[0m pos\u001b[38;5;241m.\u001b[39mupdate(community_pos)\n",
      "File \u001b[1;32mC:\\Python312\\Lib\\site-packages\\networkx\\utils\\decorators.py:789\u001b[0m, in \u001b[0;36margmap.__call__.<locals>.func\u001b[1;34m(_argmap__wrapper, *args, **kwargs)\u001b[0m\n\u001b[0;32m    788\u001b[0m \u001b[38;5;28;01mdef\u001b[39;00m \u001b[38;5;21mfunc\u001b[39m(\u001b[38;5;241m*\u001b[39margs, __wrapper\u001b[38;5;241m=\u001b[39m\u001b[38;5;28;01mNone\u001b[39;00m, \u001b[38;5;241m*\u001b[39m\u001b[38;5;241m*\u001b[39mkwargs):\n\u001b[1;32m--> 789\u001b[0m     \u001b[38;5;28;01mreturn\u001b[39;00m \u001b[43margmap\u001b[49m\u001b[38;5;241;43m.\u001b[39;49m\u001b[43m_lazy_compile\u001b[49m\u001b[43m(\u001b[49m\u001b[43m__wrapper\u001b[49m\u001b[43m)\u001b[49m\u001b[43m(\u001b[49m\u001b[38;5;241;43m*\u001b[39;49m\u001b[43margs\u001b[49m\u001b[43m,\u001b[49m\u001b[43m \u001b[49m\u001b[38;5;241;43m*\u001b[39;49m\u001b[38;5;241;43m*\u001b[39;49m\u001b[43mkwargs\u001b[49m\u001b[43m)\u001b[49m\n",
      "File \u001b[1;32m<class 'networkx.utils.decorators.argmap'> compilation 16:4\u001b[0m, in \u001b[0;36margmap_spring_layout_13\u001b[1;34m(G, k, pos, fixed, iterations, threshold, weight, scale, center, dim, seed)\u001b[0m\n\u001b[0;32m      2\u001b[0m \u001b[38;5;28;01mimport\u001b[39;00m \u001b[38;5;21;01mcollections\u001b[39;00m\n\u001b[0;32m      3\u001b[0m \u001b[38;5;28;01mimport\u001b[39;00m \u001b[38;5;21;01mgzip\u001b[39;00m\n\u001b[1;32m----> 4\u001b[0m \u001b[38;5;28;01mimport\u001b[39;00m \u001b[38;5;21;01minspect\u001b[39;00m\n\u001b[0;32m      5\u001b[0m \u001b[38;5;28;01mimport\u001b[39;00m \u001b[38;5;21;01mitertools\u001b[39;00m\n\u001b[0;32m      6\u001b[0m \u001b[38;5;28;01mimport\u001b[39;00m \u001b[38;5;21;01mre\u001b[39;00m\n",
      "File \u001b[1;32mC:\\Python312\\Lib\\site-packages\\networkx\\drawing\\layout.py:444\u001b[0m, in \u001b[0;36mspring_layout\u001b[1;34m(G, k, pos, fixed, iterations, threshold, weight, scale, center, dim, seed)\u001b[0m\n\u001b[0;32m    361\u001b[0m \u001b[38;5;250m\u001b[39m\u001b[38;5;124;03m\"\"\"Position nodes using Fruchterman-Reingold force-directed algorithm.\u001b[39;00m\n\u001b[0;32m    362\u001b[0m \n\u001b[0;32m    363\u001b[0m \u001b[38;5;124;03mThe algorithm simulates a force-directed representation of the network\u001b[39;00m\n\u001b[1;32m   (...)\u001b[0m\n\u001b[0;32m    440\u001b[0m \u001b[38;5;124;03m>>> pos = nx.fruchterman_reingold_layout(G)\u001b[39;00m\n\u001b[0;32m    441\u001b[0m \u001b[38;5;124;03m\"\"\"\u001b[39;00m\n\u001b[0;32m    442\u001b[0m \u001b[38;5;28;01mimport\u001b[39;00m \u001b[38;5;21;01mnumpy\u001b[39;00m \u001b[38;5;28;01mas\u001b[39;00m \u001b[38;5;21;01mnp\u001b[39;00m\n\u001b[1;32m--> 444\u001b[0m G, center \u001b[38;5;241m=\u001b[39m \u001b[43m_process_params\u001b[49m\u001b[43m(\u001b[49m\u001b[43mG\u001b[49m\u001b[43m,\u001b[49m\u001b[43m \u001b[49m\u001b[43mcenter\u001b[49m\u001b[43m,\u001b[49m\u001b[43m \u001b[49m\u001b[43mdim\u001b[49m\u001b[43m)\u001b[49m\n\u001b[0;32m    446\u001b[0m \u001b[38;5;28;01mif\u001b[39;00m fixed \u001b[38;5;129;01mis\u001b[39;00m \u001b[38;5;129;01mnot\u001b[39;00m \u001b[38;5;28;01mNone\u001b[39;00m:\n\u001b[0;32m    447\u001b[0m     \u001b[38;5;28;01mif\u001b[39;00m pos \u001b[38;5;129;01mis\u001b[39;00m \u001b[38;5;28;01mNone\u001b[39;00m:\n",
      "File \u001b[1;32mC:\\Python312\\Lib\\site-packages\\networkx\\drawing\\layout.py:46\u001b[0m, in \u001b[0;36m_process_params\u001b[1;34m(G, center, dim)\u001b[0m\n\u001b[0;32m     44\u001b[0m \u001b[38;5;28;01mif\u001b[39;00m \u001b[38;5;129;01mnot\u001b[39;00m \u001b[38;5;28misinstance\u001b[39m(G, nx\u001b[38;5;241m.\u001b[39mGraph):\n\u001b[0;32m     45\u001b[0m     empty_graph \u001b[38;5;241m=\u001b[39m nx\u001b[38;5;241m.\u001b[39mGraph()\n\u001b[1;32m---> 46\u001b[0m     \u001b[43mempty_graph\u001b[49m\u001b[38;5;241;43m.\u001b[39;49m\u001b[43madd_nodes_from\u001b[49m\u001b[43m(\u001b[49m\u001b[43mG\u001b[49m\u001b[43m)\u001b[49m\n\u001b[0;32m     47\u001b[0m     G \u001b[38;5;241m=\u001b[39m empty_graph\n\u001b[0;32m     49\u001b[0m \u001b[38;5;28;01mif\u001b[39;00m center \u001b[38;5;129;01mis\u001b[39;00m \u001b[38;5;28;01mNone\u001b[39;00m:\n",
      "File \u001b[1;32mC:\\Python312\\Lib\\site-packages\\networkx\\classes\\graph.py:627\u001b[0m, in \u001b[0;36mGraph.add_nodes_from\u001b[1;34m(self, nodes_for_adding, **attr)\u001b[0m\n\u001b[0;32m    566\u001b[0m \u001b[38;5;28;01mdef\u001b[39;00m \u001b[38;5;21madd_nodes_from\u001b[39m(\u001b[38;5;28mself\u001b[39m, nodes_for_adding, \u001b[38;5;241m*\u001b[39m\u001b[38;5;241m*\u001b[39mattr):\n\u001b[0;32m    567\u001b[0m \u001b[38;5;250m    \u001b[39m\u001b[38;5;124;03m\"\"\"Add multiple nodes.\u001b[39;00m\n\u001b[0;32m    568\u001b[0m \n\u001b[0;32m    569\u001b[0m \u001b[38;5;124;03m    Parameters\u001b[39;00m\n\u001b[1;32m   (...)\u001b[0m\n\u001b[0;32m    625\u001b[0m \u001b[38;5;124;03m    >>> G.add_nodes_from(list(n + 1 for n in G.nodes))\u001b[39;00m\n\u001b[0;32m    626\u001b[0m \u001b[38;5;124;03m    \"\"\"\u001b[39;00m\n\u001b[1;32m--> 627\u001b[0m \u001b[43m    \u001b[49m\u001b[38;5;28;43;01mfor\u001b[39;49;00m\u001b[43m \u001b[49m\u001b[43mn\u001b[49m\u001b[43m \u001b[49m\u001b[38;5;129;43;01min\u001b[39;49;00m\u001b[43m \u001b[49m\u001b[43mnodes_for_adding\u001b[49m\u001b[43m:\u001b[49m\n\u001b[0;32m    628\u001b[0m \u001b[43m        \u001b[49m\u001b[38;5;28;43;01mtry\u001b[39;49;00m\u001b[43m:\u001b[49m\n\u001b[0;32m    629\u001b[0m \u001b[43m            \u001b[49m\u001b[43mnewnode\u001b[49m\u001b[43m \u001b[49m\u001b[38;5;241;43m=\u001b[39;49m\u001b[43m \u001b[49m\u001b[43mn\u001b[49m\u001b[43m \u001b[49m\u001b[38;5;129;43;01mnot\u001b[39;49;00m\u001b[43m \u001b[49m\u001b[38;5;129;43;01min\u001b[39;49;00m\u001b[43m \u001b[49m\u001b[38;5;28;43mself\u001b[39;49m\u001b[38;5;241;43m.\u001b[39;49m\u001b[43m_node\u001b[49m\n",
      "\u001b[1;31mTypeError\u001b[0m: 'Graph' object is not iterable"
     ]
    }
   ],
   "source": [
    "pos = {}\n",
    "for community_id, center in cluster_centers.items():\n",
    "    community_nodes = [node for node, comm in partition_nativeTokenTransfers.items() if comm == community_id]\n",
    "    subgraph = G_nativeTokenTransfers.subgraph(community_nodes)\n",
    "    \n",
    "    # Check if subgraph is not empty\n",
    "    if subgraph.number_of_nodes() > 0:\n",
    "        community_pos = nx.spring_layout(subgraph, seed=42, k=0.2, scale=1.0)\n",
    "        community_pos = {node: (coord[0] + center[0], coord[1] + center[1]) for node, coord in community_pos.items()}\n",
    "        pos.update(community_pos)\n",
    "    else:\n",
    "        print(f\"Community {community_id} is empty.\")"
   ]
  },
  {
   "cell_type": "code",
   "execution_count": null,
   "id": "db5eeae2-fdd1-453d-9b43-edf7485954fa",
   "metadata": {},
   "outputs": [],
   "source": [
    "plt.figure(figsize=(14, 14))\n",
    "\n",
    "for node, community_id in partition_dict.items():\n",
    "    if community_id in large_communities:\n",
    "        nx.draw_networkx_nodes(G_nx, pos, nodelist=[node], node_size=50, node_color=[community_colors[community_id]])\n",
    "\n",
    "nx.draw_networkx_edges(G_nx, pos, edge_color=\"gray\", alpha=0.5, arrows=True)\n",
    "\n",
    "plt.title(\"Leiden Community Detection on Transaction Network with Separate Clusters\")\n",
    "plt.savefig(\"images/Leiden.png\", format='png')\n",
    "plt.show()"
   ]
  }
 ],
 "metadata": {
  "kernelspec": {
   "display_name": "Python 3 (ipykernel)",
   "language": "python",
   "name": "python3"
  },
  "language_info": {
   "codemirror_mode": {
    "name": "ipython",
    "version": 3
   },
   "file_extension": ".py",
   "mimetype": "text/x-python",
   "name": "python",
   "nbconvert_exporter": "python",
   "pygments_lexer": "ipython3",
   "version": "3.12.2"
  }
 },
 "nbformat": 4,
 "nbformat_minor": 5
}
